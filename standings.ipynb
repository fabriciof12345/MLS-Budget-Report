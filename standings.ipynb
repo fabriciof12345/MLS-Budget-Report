{
  "nbformat": 4,
  "nbformat_minor": 0,
  "metadata": {
    "colab": {
      "name": "standings.ipynb",
      "provenance": []
    },
    "kernelspec": {
      "name": "python3",
      "display_name": "Python 3"
    }
  },
  "cells": [
    {
      "cell_type": "code",
      "metadata": {
        "id": "LN_1OtEoXPdY"
      },
      "source": [
        "import pandas as pd\n",
        "import numpy as np\n",
        "import matplotlib.pyplot as plt\n",
        "import requests\n",
        "from bs4 import BeautifulSoup\n",
        "plt.style.use('ggplot')"
      ],
      "execution_count": 1,
      "outputs": []
    },
    {
      "cell_type": "code",
      "metadata": {
        "id": "SFW9tipPXgFV"
      },
      "source": [
        "url = requests.get(\"https://www.mlssoccer.com/standings/mls/2019/\")\n",
        "soup = BeautifulSoup(url.text, features='html.parser')\n",
        "tables = soup.find_all(\"tbody\")\n",
        "eastern = tables[0].find_all(\"tr\")\n",
        "western = tables[1].find_all(\"tr\")"
      ],
      "execution_count": 2,
      "outputs": []
    },
    {
      "cell_type": "code",
      "metadata": {
        "id": "u83fVtw2CUDV"
      },
      "source": [
        "titles = ['Club', 'Points', 'Points Per Game', 'Games Played', \n",
        "          'Wins', 'Losses', 'Ties', 'Goals For', \n",
        "          'Goals Against', 'Goals Difference']"
      ],
      "execution_count": 3,
      "outputs": []
    },
    {
      "cell_type": "code",
      "metadata": {
        "id": "18nF6laHLIFP"
      },
      "source": [
        "def removeAbbrev(clubName):\n",
        "  if clubName in [\"RBNYNew York Red Bulls\",\"LAFCLos Angeles Football Club\",]:\n",
        "    return clubName[4:]\n",
        "  elif clubName in [\"DCD.C. United\", \"NENew England Revolution\", \"LALA Galaxy\",\"SJSan Jose Earthquakes\"]:\n",
        "    return clubName[2:]\n",
        "  else:\n",
        "    return clubName[3:]"
      ],
      "execution_count": 4,
      "outputs": []
    },
    {
      "cell_type": "code",
      "metadata": {
        "id": "5Vj8QGhmNcYY"
      },
      "source": [
        "westernTeams = []\n",
        "for row in western:\n",
        "  cols = row.findChildren(recursive=False)\n",
        "  cols = [ele.text.strip() for ele in cols[1:-4]]\n",
        "  cols = [i for i in cols if i]\n",
        "  cols[0] = removeAbbrev(cols[0])\n",
        "  westernTeams.append(cols)\n",
        "westernTeams = westernTeams[1:]"
      ],
      "execution_count": 5,
      "outputs": []
    },
    {
      "cell_type": "code",
      "metadata": {
        "id": "0jksq99a7cVp"
      },
      "source": [
        "easternTeams = []\n",
        "for row in eastern:\n",
        "  cols = row.findChildren(recursive=False)\n",
        "  cols = [ele.text.strip() for ele in cols[1:-4]]\n",
        "  cols = [i for i in cols if i]\n",
        "  cols[0] = removeAbbrev(cols[0])\n",
        "  easternTeams.append(cols)\n",
        "easternTeams = easternTeams[1:]"
      ],
      "execution_count": 6,
      "outputs": []
    },
    {
      "cell_type": "code",
      "metadata": {
        "id": "pf5XjkAK_Hrd"
      },
      "source": [
        "allTeams = easternTeams + westernTeams\n",
        "df = pd.DataFrame(data=allTeams)\n",
        "df.columns = titles\n",
        "\n",
        "for col in df.columns.values[3:11]:\n",
        "  df[col] = df[col].astype(int)\n",
        "\n",
        "df['Points'] = df['Points'].astype(int)\n",
        "df['Points Per Game'] = df['Points Per Game'].astype(float)"
      ],
      "execution_count": 7,
      "outputs": []
    },
    {
      "cell_type": "code",
      "metadata": {
        "id": "KotxJwg3g4s3",
        "outputId": "4819545a-3fd1-4c81-bb42-ee92b51d93d9",
        "colab": {
          "base_uri": "https://localhost:8080/"
        }
      },
      "source": [
        "df.info()"
      ],
      "execution_count": 8,
      "outputs": [
        {
          "output_type": "stream",
          "text": [
            "<class 'pandas.core.frame.DataFrame'>\n",
            "RangeIndex: 24 entries, 0 to 23\n",
            "Data columns (total 10 columns):\n",
            " #   Column            Non-Null Count  Dtype  \n",
            "---  ------            --------------  -----  \n",
            " 0   Club              24 non-null     object \n",
            " 1   Points            24 non-null     int64  \n",
            " 2   Points Per Game   24 non-null     float64\n",
            " 3   Games Played      24 non-null     int64  \n",
            " 4   Wins              24 non-null     int64  \n",
            " 5   Losses            24 non-null     int64  \n",
            " 6   Ties              24 non-null     int64  \n",
            " 7   Goals For         24 non-null     int64  \n",
            " 8   Goals Against     24 non-null     int64  \n",
            " 9   Goals Difference  24 non-null     int64  \n",
            "dtypes: float64(1), int64(8), object(1)\n",
            "memory usage: 2.0+ KB\n"
          ],
          "name": "stdout"
        }
      ]
    },
    {
      "cell_type": "code",
      "metadata": {
        "id": "uqOhjux9hH2k"
      },
      "source": [
        "goals_for = df.sort_values(by='Goals For', ascending=False).head(10)"
      ],
      "execution_count": 9,
      "outputs": []
    },
    {
      "cell_type": "code",
      "metadata": {
        "id": "YbO1MghWjTr8"
      },
      "source": [
        "club_names = ['LAFC', 'NYC', 'ATL', 'COL', 'PHI', 'LA', 'TOR', 'CHI', 'DAL', 'RBNY']"
      ],
      "execution_count": 10,
      "outputs": []
    },
    {
      "cell_type": "code",
      "metadata": {
        "id": "gNAalegw2-fY",
        "outputId": "2ad58b10-33ed-4c14-b3a3-75c06e41b1ca",
        "colab": {
          "base_uri": "https://localhost:8080/",
          "height": 650
        }
      },
      "source": [
        "plt.figure(figsize=(15,10))\n",
        "plt.bar(-.4+np.arange(.2,len(goals_for)),goals_for['Goals For'].values,width=.4,label='Goals For',color='darkorchid')\n",
        "plt.bar(.2+np.arange(len(goals_for)), goals_for['Goals Against'].values,width=.4,label='Goals Against', color = 'gold')\n",
        "plt.xticks(ticks=np.arange(len(goals_for)),labels=club_names,size=20)\n",
        "plt.yticks(size=15)\n",
        "plt.ylabel('Number of Goals',size=20)\n",
        "plt.legend(fontsize='xx-large')\n",
        "plt.title('Top 10 Highest Goal Scoring MLS Teams', size = 30, pad = 10)\n",
        "plt"
      ],
      "execution_count": 11,
      "outputs": [
        {
          "output_type": "execute_result",
          "data": {
            "text/plain": [
              "<module 'matplotlib.pyplot' from '/usr/local/lib/python3.6/dist-packages/matplotlib/pyplot.py'>"
            ]
          },
          "metadata": {
            "tags": []
          },
          "execution_count": 11
        },
        {
          "output_type": "display_data",
          "data": {
            "image/png": "[encoded data removed]",
            "text/plain": [
              "<Figure size 1080x720 with 1 Axes>"
            ]
          },
          "metadata": {
            "tags": [],
            "needs_background": "light"
          }
        }
      ]
    },
    {
      "cell_type": "markdown",
      "metadata": {
        "id": "MBpZVvcbvyqP"
      },
      "source": [
        "Choose Colorado Rapids as team since they conceded more goals than they scored. They finished outside of the playoffs finishing 9th place in the Western conference."
      ]
    }
  ]
}